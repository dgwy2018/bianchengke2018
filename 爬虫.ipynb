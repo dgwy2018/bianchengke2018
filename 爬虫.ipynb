{
 "cells": [
  {
   "cell_type": "code",
   "execution_count": null,
   "metadata": {},
   "outputs": [],
   "source": []
  },
  {
   "cell_type": "markdown",
   "metadata": {},
   "source": [
    "Python网络爬虫与信息提取(一)：网络爬虫之规则\n",
    "\n",
    "https://blog.csdn.net/riba2534/article/details/68950199\n"
   ]
  },
  {
   "cell_type": "code",
   "execution_count": null,
   "metadata": {},
   "outputs": [],
   "source": [
    "def getHTMLText(url)\n",
    "try:\n",
    "  r = requests.get(url,timeout = 30)\n",
    "  r.raise_for_status()\n",
    "  r.encoding = r.apparent_encoding\n",
    "  return r.text\n",
    "except:\n",
    "  return \"产生异常\"\n",
    "\n",
    "if _name_==\"main_\"\n",
    "  url = \"https://www.taobao.com/\"\n",
    "print(getHTMLText(url))\n"
   ]
  },
  {
   "cell_type": "code",
   "execution_count": null,
   "metadata": {},
   "outputs": [],
   "source": [
    "import requests\n",
    "url=\"\"\n",
    "try:\n",
    "    res=requests.get(url)\n",
    "    res.raise_for_status()\n",
    "    res.encoding = res.apparent_encoding\n",
    "    print(res.text[:1000])\n",
    "\n",
    "except:\n",
    "    print(\"爬取失败“)"
   ]
  },
  {
   "cell_type": "code",
   "execution_count": null,
   "metadata": {},
   "outputs": [],
   "source": [
    "#爬去京东网页\n",
    "import requests\n",
    "url = \"http://item.jd.com/2967929.html\"\n",
    "try:\n",
    "  r=requests.get(url)\n",
    "  r.raise_for_status()\n",
    "  r.encoding=r.apparent_encoding\n",
    "  print(r.text[:1000])\n",
    "except:\n",
    "  print(\"爬取失败\")\n"
   ]
  },
  {
   "cell_type": "code",
   "execution_count": null,
   "metadata": {},
   "outputs": [],
   "source": [
    "#爬取亚马逊\n",
    "\n",
    "\"https://www.amazon.cn/dp/B07896QS5D/ref=cngwdyfloorv2_recs_0?pf_rd_p=db4e96ef-5fc1-47f8-92b2-b9a5e737b326&pf_rd_s=desktop-2&pf_rd_t=36701&pf_rd_i=desktop&pf_rd_m=A1AJ19PSB66TGU&pf_rd_r=E5QEEMSFA6ADAJXYE0YA&pf_rd_r=E5QEEMSFA6ADAJXYE0YA&pf_rd_p=db4e96ef-5fc1-47f8-92b2-b9a5e737b326\""
   ]
  },
  {
   "cell_type": "code",
   "execution_count": null,
   "metadata": {},
   "outputs": [],
   "source": [
    "import requests\n",
    "url = \"http://www.amazon.cn/gp/product/B01M8L5Z3Y\"\n",
    "try:\n",
    "  kv = {'user-agent':'Mozilla/5.0'}\n",
    "  r= requests.get(url,header = kv)\n",
    "  r.raise_for_status()\n",
    "  r.encoding=r.apparent_encoding\n",
    "  print(r.text[1000:2000])\n",
    "except:\n",
    "  print(\"爬取失败\")\n"
   ]
  },
  {
   "cell_type": "code",
   "execution_count": null,
   "metadata": {},
   "outputs": [],
   "source": [
    "import requests\n",
    "keyword = \"Python\"\n",
    "try:\n",
    "  kv = {'wd':keyword}\n",
    "  r= requests.get(\"http://www.baidu.com/s\",params = kv)\n",
    "  print(r.requrst.url)\n",
    "  r.raise_for_status()\n",
    "  print(len(r.text))\n",
    "except:\n",
    "  print(\"爬取失败\")\n"
   ]
  },
  {
   "cell_type": "code",
   "execution_count": 3,
   "metadata": {},
   "outputs": [
    {
     "name": "stdout",
     "output_type": "stream",
     "text": [
      "爬取失败\n"
     ]
    }
   ],
   "source": [
    "import requests\n",
    "import os\n",
    "url = \"http://image.nationalgeographic.com.cn/2017/0311/20170311024522382.jpg\"\n",
    "root = \"D://pics//\"\n",
    "path = root +url.split('/')[-1]\n",
    "try:\n",
    "  if not os.path.exists(root):\n",
    "    os.mkdir(root)\n",
    "  if not os.path.exists(path):\n",
    "    r=requests.get(url)\n",
    "    with open(path,'wb') as f:\n",
    "      f.writr(r.content)\n",
    "      f.close()\n",
    "      print(\"文件保存成功\")\n",
    "  else:\n",
    "      print(\"文件已存在\")\n",
    "except:\n",
    "  print(\"爬取失败\")\n"
   ]
  },
  {
   "cell_type": "code",
   "execution_count": null,
   "metadata": {},
   "outputs": [],
   "source": []
  },
  {
   "cell_type": "code",
   "execution_count": 1,
   "metadata": {},
   "outputs": [
    {
     "name": "stdout",
     "output_type": "stream",
     "text": [
      "本机电脑名：BMHQYZG41GSTUBR\n",
      "本机内网IP：192.168.56.1\n"
     ]
    },
    {
     "ename": "InvalidSchema",
     "evalue": "No connection adapters were found for '[图片]http://2018.ip138.com/ic.asp'",
     "output_type": "error",
     "traceback": [
      "\u001b[1;31m---------------------------------------------------------------------------\u001b[0m",
      "\u001b[1;31mInvalidSchema\u001b[0m                             Traceback (most recent call last)",
      "\u001b[1;32m<ipython-input-1-e119ba65c15e>\u001b[0m in \u001b[0;36m<module>\u001b[1;34m()\u001b[0m\n\u001b[0;32m     11\u001b[0m \u001b[0mprint\u001b[0m\u001b[1;33m(\u001b[0m\u001b[1;34m'本机电脑名：'\u001b[0m\u001b[1;33m+\u001b[0m\u001b[0mmyname\u001b[0m\u001b[1;33m)\u001b[0m\u001b[1;33m\u001b[0m\u001b[0m\n\u001b[0;32m     12\u001b[0m \u001b[0mprint\u001b[0m\u001b[1;33m(\u001b[0m\u001b[1;34m'本机内网IP：'\u001b[0m\u001b[1;33m+\u001b[0m\u001b[0mmyaddr\u001b[0m\u001b[1;33m)\u001b[0m\u001b[1;33m\u001b[0m\u001b[0m\n\u001b[1;32m---> 13\u001b[1;33m \u001b[0mprint\u001b[0m\u001b[1;33m(\u001b[0m\u001b[1;34m'本机外网IP：'\u001b[0m\u001b[1;33m+\u001b[0m\u001b[0mget_ip\u001b[0m\u001b[1;33m(\u001b[0m\u001b[1;33m)\u001b[0m\u001b[1;33m)\u001b[0m\u001b[1;33m\u001b[0m\u001b[0m\n\u001b[0m",
      "\u001b[1;32m<ipython-input-1-e119ba65c15e>\u001b[0m in \u001b[0;36mget_ip\u001b[1;34m()\u001b[0m\n\u001b[0;32m      6\u001b[0m \u001b[0mmyaddr\u001b[0m \u001b[1;33m=\u001b[0m \u001b[0msocket\u001b[0m\u001b[1;33m.\u001b[0m\u001b[0mgethostbyname\u001b[0m\u001b[1;33m(\u001b[0m\u001b[0mmyname\u001b[0m\u001b[1;33m)\u001b[0m\u001b[1;31m#获取本机ip\u001b[0m\u001b[1;33m\u001b[0m\u001b[0m\n\u001b[0;32m      7\u001b[0m \u001b[1;32mdef\u001b[0m \u001b[0mget_ip\u001b[0m\u001b[1;33m(\u001b[0m\u001b[1;33m)\u001b[0m\u001b[1;33m:\u001b[0m\u001b[1;33m\u001b[0m\u001b[0m\n\u001b[1;32m----> 8\u001b[1;33m     \u001b[0mresponse\u001b[0m \u001b[1;33m=\u001b[0m \u001b[0mrequests\u001b[0m\u001b[1;33m.\u001b[0m\u001b[0mget\u001b[0m\u001b[1;33m(\u001b[0m\u001b[1;34m\"[图片]http://\"\u001b[0m\u001b[1;33m+\u001b[0m\u001b[0mstr\u001b[0m\u001b[1;33m(\u001b[0m\u001b[0mtime\u001b[0m\u001b[1;33m.\u001b[0m\u001b[0mlocaltime\u001b[0m\u001b[1;33m(\u001b[0m\u001b[1;33m)\u001b[0m\u001b[1;33m.\u001b[0m\u001b[0mtm_year\u001b[0m\u001b[1;33m)\u001b[0m\u001b[1;33m+\u001b[0m\u001b[1;34m\".ip138.com/ic.asp\"\u001b[0m\u001b[1;33m)\u001b[0m\u001b[1;33m\u001b[0m\u001b[0m\n\u001b[0m\u001b[0;32m      9\u001b[0m     \u001b[0mip\u001b[0m \u001b[1;33m=\u001b[0m \u001b[0mre\u001b[0m\u001b[1;33m.\u001b[0m\u001b[0msearch\u001b[0m\u001b[1;33m(\u001b[0m\u001b[1;34mr\"\\d{1,3}\\.\\d{1,3}\\.\\d{1,3}\\.\\d{1,3}\"\u001b[0m\u001b[1;33m,\u001b[0m\u001b[0mresponse\u001b[0m\u001b[1;33m.\u001b[0m\u001b[0mcontent\u001b[0m\u001b[1;33m.\u001b[0m\u001b[0mdecode\u001b[0m\u001b[1;33m(\u001b[0m\u001b[0merrors\u001b[0m\u001b[1;33m=\u001b[0m\u001b[1;34m'ignore'\u001b[0m\u001b[1;33m)\u001b[0m\u001b[1;33m)\u001b[0m\u001b[1;33m.\u001b[0m\u001b[0mgroup\u001b[0m\u001b[1;33m(\u001b[0m\u001b[1;36m0\u001b[0m\u001b[1;33m)\u001b[0m\u001b[1;33m\u001b[0m\u001b[0m\n\u001b[0;32m     10\u001b[0m     \u001b[1;32mreturn\u001b[0m \u001b[0mip\u001b[0m\u001b[1;33m\u001b[0m\u001b[0m\n",
      "\u001b[1;32md:\\ProgramData\\Anaconda3\\lib\\site-packages\\requests\\api.py\u001b[0m in \u001b[0;36mget\u001b[1;34m(url, params, **kwargs)\u001b[0m\n\u001b[0;32m     70\u001b[0m \u001b[1;33m\u001b[0m\u001b[0m\n\u001b[0;32m     71\u001b[0m     \u001b[0mkwargs\u001b[0m\u001b[1;33m.\u001b[0m\u001b[0msetdefault\u001b[0m\u001b[1;33m(\u001b[0m\u001b[1;34m'allow_redirects'\u001b[0m\u001b[1;33m,\u001b[0m \u001b[1;32mTrue\u001b[0m\u001b[1;33m)\u001b[0m\u001b[1;33m\u001b[0m\u001b[0m\n\u001b[1;32m---> 72\u001b[1;33m     \u001b[1;32mreturn\u001b[0m \u001b[0mrequest\u001b[0m\u001b[1;33m(\u001b[0m\u001b[1;34m'get'\u001b[0m\u001b[1;33m,\u001b[0m \u001b[0murl\u001b[0m\u001b[1;33m,\u001b[0m \u001b[0mparams\u001b[0m\u001b[1;33m=\u001b[0m\u001b[0mparams\u001b[0m\u001b[1;33m,\u001b[0m \u001b[1;33m**\u001b[0m\u001b[0mkwargs\u001b[0m\u001b[1;33m)\u001b[0m\u001b[1;33m\u001b[0m\u001b[0m\n\u001b[0m\u001b[0;32m     73\u001b[0m \u001b[1;33m\u001b[0m\u001b[0m\n\u001b[0;32m     74\u001b[0m \u001b[1;33m\u001b[0m\u001b[0m\n",
      "\u001b[1;32md:\\ProgramData\\Anaconda3\\lib\\site-packages\\requests\\api.py\u001b[0m in \u001b[0;36mrequest\u001b[1;34m(method, url, **kwargs)\u001b[0m\n\u001b[0;32m     56\u001b[0m     \u001b[1;31m# cases, and look like a memory leak in others.\u001b[0m\u001b[1;33m\u001b[0m\u001b[1;33m\u001b[0m\u001b[0m\n\u001b[0;32m     57\u001b[0m     \u001b[1;32mwith\u001b[0m \u001b[0msessions\u001b[0m\u001b[1;33m.\u001b[0m\u001b[0mSession\u001b[0m\u001b[1;33m(\u001b[0m\u001b[1;33m)\u001b[0m \u001b[1;32mas\u001b[0m \u001b[0msession\u001b[0m\u001b[1;33m:\u001b[0m\u001b[1;33m\u001b[0m\u001b[0m\n\u001b[1;32m---> 58\u001b[1;33m         \u001b[1;32mreturn\u001b[0m \u001b[0msession\u001b[0m\u001b[1;33m.\u001b[0m\u001b[0mrequest\u001b[0m\u001b[1;33m(\u001b[0m\u001b[0mmethod\u001b[0m\u001b[1;33m=\u001b[0m\u001b[0mmethod\u001b[0m\u001b[1;33m,\u001b[0m \u001b[0murl\u001b[0m\u001b[1;33m=\u001b[0m\u001b[0murl\u001b[0m\u001b[1;33m,\u001b[0m \u001b[1;33m**\u001b[0m\u001b[0mkwargs\u001b[0m\u001b[1;33m)\u001b[0m\u001b[1;33m\u001b[0m\u001b[0m\n\u001b[0m\u001b[0;32m     59\u001b[0m \u001b[1;33m\u001b[0m\u001b[0m\n\u001b[0;32m     60\u001b[0m \u001b[1;33m\u001b[0m\u001b[0m\n",
      "\u001b[1;32md:\\ProgramData\\Anaconda3\\lib\\site-packages\\requests\\sessions.py\u001b[0m in \u001b[0;36mrequest\u001b[1;34m(self, method, url, params, data, headers, cookies, files, auth, timeout, allow_redirects, proxies, hooks, stream, verify, cert, json)\u001b[0m\n\u001b[0;32m    506\u001b[0m         }\n\u001b[0;32m    507\u001b[0m         \u001b[0msend_kwargs\u001b[0m\u001b[1;33m.\u001b[0m\u001b[0mupdate\u001b[0m\u001b[1;33m(\u001b[0m\u001b[0msettings\u001b[0m\u001b[1;33m)\u001b[0m\u001b[1;33m\u001b[0m\u001b[0m\n\u001b[1;32m--> 508\u001b[1;33m         \u001b[0mresp\u001b[0m \u001b[1;33m=\u001b[0m \u001b[0mself\u001b[0m\u001b[1;33m.\u001b[0m\u001b[0msend\u001b[0m\u001b[1;33m(\u001b[0m\u001b[0mprep\u001b[0m\u001b[1;33m,\u001b[0m \u001b[1;33m**\u001b[0m\u001b[0msend_kwargs\u001b[0m\u001b[1;33m)\u001b[0m\u001b[1;33m\u001b[0m\u001b[0m\n\u001b[0m\u001b[0;32m    509\u001b[0m \u001b[1;33m\u001b[0m\u001b[0m\n\u001b[0;32m    510\u001b[0m         \u001b[1;32mreturn\u001b[0m \u001b[0mresp\u001b[0m\u001b[1;33m\u001b[0m\u001b[0m\n",
      "\u001b[1;32md:\\ProgramData\\Anaconda3\\lib\\site-packages\\requests\\sessions.py\u001b[0m in \u001b[0;36msend\u001b[1;34m(self, request, **kwargs)\u001b[0m\n\u001b[0;32m    610\u001b[0m \u001b[1;33m\u001b[0m\u001b[0m\n\u001b[0;32m    611\u001b[0m         \u001b[1;31m# Get the appropriate adapter to use\u001b[0m\u001b[1;33m\u001b[0m\u001b[1;33m\u001b[0m\u001b[0m\n\u001b[1;32m--> 612\u001b[1;33m         \u001b[0madapter\u001b[0m \u001b[1;33m=\u001b[0m \u001b[0mself\u001b[0m\u001b[1;33m.\u001b[0m\u001b[0mget_adapter\u001b[0m\u001b[1;33m(\u001b[0m\u001b[0murl\u001b[0m\u001b[1;33m=\u001b[0m\u001b[0mrequest\u001b[0m\u001b[1;33m.\u001b[0m\u001b[0murl\u001b[0m\u001b[1;33m)\u001b[0m\u001b[1;33m\u001b[0m\u001b[0m\n\u001b[0m\u001b[0;32m    613\u001b[0m \u001b[1;33m\u001b[0m\u001b[0m\n\u001b[0;32m    614\u001b[0m         \u001b[1;31m# Start time (approximately) of the request\u001b[0m\u001b[1;33m\u001b[0m\u001b[1;33m\u001b[0m\u001b[0m\n",
      "\u001b[1;32md:\\ProgramData\\Anaconda3\\lib\\site-packages\\requests\\sessions.py\u001b[0m in \u001b[0;36mget_adapter\u001b[1;34m(self, url)\u001b[0m\n\u001b[0;32m    701\u001b[0m \u001b[1;33m\u001b[0m\u001b[0m\n\u001b[0;32m    702\u001b[0m         \u001b[1;31m# Nothing matches :-/\u001b[0m\u001b[1;33m\u001b[0m\u001b[1;33m\u001b[0m\u001b[0m\n\u001b[1;32m--> 703\u001b[1;33m         \u001b[1;32mraise\u001b[0m \u001b[0mInvalidSchema\u001b[0m\u001b[1;33m(\u001b[0m\u001b[1;34m\"No connection adapters were found for '%s'\"\u001b[0m \u001b[1;33m%\u001b[0m \u001b[0murl\u001b[0m\u001b[1;33m)\u001b[0m\u001b[1;33m\u001b[0m\u001b[0m\n\u001b[0m\u001b[0;32m    704\u001b[0m \u001b[1;33m\u001b[0m\u001b[0m\n\u001b[0;32m    705\u001b[0m     \u001b[1;32mdef\u001b[0m \u001b[0mclose\u001b[0m\u001b[1;33m(\u001b[0m\u001b[0mself\u001b[0m\u001b[1;33m)\u001b[0m\u001b[1;33m:\u001b[0m\u001b[1;33m\u001b[0m\u001b[0m\n",
      "\u001b[1;31mInvalidSchema\u001b[0m: No connection adapters were found for '[图片]http://2018.ip138.com/ic.asp'"
     ]
    }
   ],
   "source": [
    "import requests\n",
    "import re\n",
    "import time\n",
    "import socket\n",
    "myname = socket.getfqdn(socket.gethostname(  ))#获取本机电脑名\n",
    "myaddr = socket.gethostbyname(myname)#获取本机ip\n",
    "def get_ip():\n",
    "    response = requests.get(\"[图片]http://\"+str(time.localtime().tm_year)+\".ip138.com/ic.asp\")\n",
    "    ip = re.search(r\"\\d{1,3}\\.\\d{1,3}\\.\\d{1,3}\\.\\d{1,3}\",response.content.decode(errors='ignore')).group(0)\n",
    "    return ip\n",
    "print('本机电脑名：'+myname)\n",
    "print('本机内网IP：'+myaddr)\n",
    "print('本机外网IP：'+get_ip())\n"
   ]
  },
  {
   "cell_type": "code",
   "execution_count": 5,
   "metadata": {},
   "outputs": [
    {
     "ename": "ModuleNotFoundError",
     "evalue": "No module named 'cx_Oracle'",
     "output_type": "error",
     "traceback": [
      "\u001b[1;31m---------------------------------------------------------------------------\u001b[0m",
      "\u001b[1;31mModuleNotFoundError\u001b[0m                       Traceback (most recent call last)",
      "\u001b[1;32m<ipython-input-5-5dfd4bf04d5a>\u001b[0m in \u001b[0;36m<module>\u001b[1;34m()\u001b[0m\n\u001b[0;32m      2\u001b[0m \u001b[1;32mimport\u001b[0m \u001b[0mpandas\u001b[0m \u001b[1;32mas\u001b[0m \u001b[0mpd\u001b[0m\u001b[1;33m\u001b[0m\u001b[0m\n\u001b[0;32m      3\u001b[0m \u001b[1;32mfrom\u001b[0m \u001b[0msqlalchemy\u001b[0m \u001b[1;32mimport\u001b[0m \u001b[0mcreate_engine\u001b[0m\u001b[1;33m\u001b[0m\u001b[0m\n\u001b[1;32m----> 4\u001b[1;33m \u001b[1;32mimport\u001b[0m \u001b[0mcx_Oracle\u001b[0m\u001b[1;33m\u001b[0m\u001b[0m\n\u001b[0m\u001b[0;32m      5\u001b[0m \u001b[1;32mimport\u001b[0m \u001b[0mre\u001b[0m\u001b[1;33m\u001b[0m\u001b[0m\n\u001b[0;32m      6\u001b[0m \u001b[1;32mimport\u001b[0m \u001b[0mnumpy\u001b[0m \u001b[1;32mas\u001b[0m \u001b[0mnp\u001b[0m\u001b[1;33m\u001b[0m\u001b[0m\n",
      "\u001b[1;31mModuleNotFoundError\u001b[0m: No module named 'cx_Oracle'"
     ]
    }
   ],
   "source": [
    "# 陈瑜提供，爬虫程序\n",
    "import pandas as pd  \n",
    "from sqlalchemy import create_engine  \n",
    "import cx_Oracle\n",
    "import re\n",
    "import numpy as np\n",
    "import matplotlib.pyplot as plt\n",
    "from pylab import mpl\n",
    "import tushare as ts\n",
    "import matplotlib.dates as mdates\n",
    "from datetime import datetime\n",
    "from matplotlib.dates import AutoDateLocator\n",
    "import requests\n",
    "from bs4 import BeautifulSoup \n",
    "mpl.rcParams['font.sans-serif'] = ['SimHei']\n",
    "db=cx_Oracle.connect('unicom','unicom10010','[图片]113.57.206.250:1521/oracl')\n",
    "cr=db.cursor()  \n",
    "HK_code = '77070'\n",
    "if HK_code[0:2]==\"70\" or HK_code[0:2]==\"72\":\n",
    "    A_code='00'+HK_code[1:5]\n",
    "if HK_code[0:2]==\"77\":\n",
    "    A_code='300'+HK_code[2:5]\n",
    "if HK_code[0:2]==\"90\" or HK_code[0:2]==\"91\" or  HK_code[0:2]==\"92\" or HK_code[0:2]==\"93\" or HK_code[0:2]==\"94\":\n",
    "    A_code='60'+HK_code[1:5]\n",
    "print(A_code)\n",
    "#data = ts.get_hist_data(A_code,start='2016-11-24',end='2018-09-03') \n",
    "t1 = datetime.now().date().isoformat()  #格式为2018-08-10\n",
    "#print(type(t1))\n",
    "data = ts.get_hist_data(A_code,start='2017-05-02',end=t1) #2017-05-02\n",
    "data_close1 = data['close'].values\n",
    "data_time1 = data.index\n",
    "#print(data)\n",
    "time_list =[]\n",
    "chiguliang =[]\n",
    "jilu=[]\n",
    "rr2=0\n",
    "for i in data_time1: #取时间2018-08-30\n",
    "    time_list.append(i)\n",
    "    j = str(i)\n",
    "    #print(len(j))\n",
    "    #print(j)\n",
    "    sql=\"select to_number(replace(stock_num,',','')) from tbl_stock_info  where stock_code=:code1 and STOCK_TIME=:j1\"\n",
    "    cr.execute(sql,code1=HK_code,j1=j)  \n",
    "    rs=cr.fetchone()\n",
    "    rr = str(rs).replace(',','').replace('(','').replace(')','')\n",
    "    if rr!='None':\n",
    "        rr=int(rr)\n",
    "        while rr2!=0:\n",
    "            chiguliang.append(rr)\n",
    "            rr2=rr2-1\n",
    "        chiguliang.append(rr)\n",
    "        rr2=0\n",
    "    if rr=='None':\n",
    "        rr2=rr2+1\n",
    "        #chiguliang.append(rr)\n",
    "    rr1 =rr\n",
    "sql1=\"select stock_name from tbl_stock_info  where stock_code=\"+HK_code+\" order by STOCK_TIME DESC\"\n",
    "cr.execute(sql1)  \n",
    "astock_name=cr.fetchone()\n",
    "uu=str(astock_name)\n",
    "sql2=\"select stock_percent from tbl_stock_info  where stock_code=\"+HK_code+\" and stock_time='2018-09-06'\"\n",
    "cr.execute(sql2)  \n",
    "astock_percent=cr.fetchone()\n",
    "uu1=str(astock_percent)\n",
    "uu1 = uu1.replace(',','').replace('(','').replace(')','')\n",
    "uu = uu.replace(',','').replace('(','').replace(')','')\n",
    "uu = uu[1:-1]\n",
    "uu1=uu1[1:-1]\n",
    "# print(time_list)\n",
    "# print(chiguliang)\n",
    "# print(astock_name)\n",
    "data_time_translation = [datetime.strptime(d, '%Y-%m-%d').date() for d in data_time1]\n",
    "fig,ax1 = plt.subplots()\n",
    "# # 配置时间坐标轴\n",
    "plt.gca().xaxis.set_major_formatter(mdates.DateFormatter('%Y-%m-%d')) # 显示时间坐标的格式\n",
    "autodates = AutoDateLocator()                # 时间间隔自动选取\n",
    "plt.gca().xaxis.set_major_locator(autodates)\n",
    "x = data_time_translation\n",
    "#print(x)\n",
    "y1 = data_close1#收盘价\n",
    "y2 = chiguliang#港资持股量\n",
    "print(len(y1))\n",
    "print(len(y2))\n",
    "if len(y1)==len(y2):\n",
    "    plt.rcParams['savefig.dpi'] = 300 #图片像素\n",
    "    plt.rcParams['figure.dpi'] = 300 #分辨率\n",
    "    plt.plot(x,y1,'b',label=\"收盘价\")\n",
    "    plt.gcf().autofmt_xdate()  # 自动旋转日期标记\n",
    "    plt.grid(True)\n",
    "    plt.axis('tight')\n",
    "    plt.xlabel(\"时间\",size=25)\n",
    "    plt.ylabel('收盘价',size=16)\n",
    "    plt.title(A_code+uu+t1+'画像持股占比'+uu1,size=20)\n",
    "    plt.legend(loc=0)\n",
    "    ax2=ax1.twinx()\n",
    "    plt.plot(x,y2,'r',label=\"持股数\")\n",
    "    plt.ylabel(\"持股数\",size=16)\n",
    "    plt.legend(loc=0)\n",
    "    if uu[0]!='*':\n",
    "        plt.savefig(uu+str(t1)+\"画像.png\")\n",
    "    else:\n",
    "        print(uu)\n",
    "        jilu.append([uu,len(y1),len(y2)])\n",
    "        #plt.savefig(str(t1)+uu+\"画像.png\")\n",
    "    plt.show()\n",
    "    plt.close()\n",
    "else:\n",
    "    jilu.append([uu,len(y1),len(y2)])    #--------------------------------------------------\n",
    "db.close()\n"
   ]
  },
  {
   "cell_type": "code",
   "execution_count": null,
   "metadata": {},
   "outputs": [],
   "source": [
    "#＃导入我们要使用的Requests库\n",
    "import requests\n",
    "#＃将我们要爬取的网页地址uRL赋值给变量url\n",
    "url  = \"http://jn.58.com/shouji/?PGTID==0d100000一0010一9734一6caa-ad8e87876744&CliCkID==1'\"\n",
    "#＃使用requests库的get方法获取url地址对应网页的所有信息，并赋值给变量web_data\n",
    "Web_data = requests.get(url)\n",
    "#＃获取web_data的text属性，即获取真个uRL的所有HTML,CSS与Javascript\n",
    "tongcheng_data = web_data·text\n",
    "#＃打印出这个所有的网页元素\n",
    "print(tongcheng_data)\n"
   ]
  },
  {
   "cell_type": "code",
   "execution_count": null,
   "metadata": {},
   "outputs": [],
   "source": []
  },
  {
   "cell_type": "code",
   "execution_count": null,
   "metadata": {},
   "outputs": [],
   "source": []
  }
 ],
 "metadata": {
  "kernelspec": {
   "display_name": "Python 3",
   "language": "python",
   "name": "python3"
  },
  "language_info": {
   "codemirror_mode": {
    "name": "ipython",
    "version": 3
   },
   "file_extension": ".py",
   "mimetype": "text/x-python",
   "name": "python",
   "nbconvert_exporter": "python",
   "pygments_lexer": "ipython3",
   "version": "3.6.5"
  }
 },
 "nbformat": 4,
 "nbformat_minor": 2
}
