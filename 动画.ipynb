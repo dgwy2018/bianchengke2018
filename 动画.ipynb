{
 "cells": [
  {
   "cell_type": "markdown",
   "metadata": {},
   "source": [
    "https://blog.csdn.net/lanchunhui/article/details/52929443\n",
    "\n",
    "Python 动图、动画制作 —— moviepy、matplotlib.animation"
   ]
  },
  {
   "cell_type": "code",
   "execution_count": null,
   "metadata": {},
   "outputs": [],
   "source": []
  },
  {
   "cell_type": "code",
   "execution_count": null,
   "metadata": {},
   "outputs": [],
   "source": []
  },
  {
   "cell_type": "code",
   "execution_count": null,
   "metadata": {},
   "outputs": [],
   "source": []
  },
  {
   "cell_type": "code",
   "execution_count": null,
   "metadata": {},
   "outputs": [],
   "source": []
  },
  {
   "cell_type": "code",
   "execution_count": null,
   "metadata": {},
   "outputs": [],
   "source": []
  },
  {
   "cell_type": "code",
   "execution_count": 5,
   "metadata": {},
   "outputs": [
    {
     "ename": "SyntaxError",
     "evalue": "unexpected EOF while parsing (<ipython-input-5-83348b69865a>, line 65)",
     "output_type": "error",
     "traceback": [
      "\u001b[1;36m  File \u001b[1;32m\"<ipython-input-5-83348b69865a>\"\u001b[1;36m, line \u001b[1;32m65\u001b[0m\n\u001b[1;33m    myscreen.exitonclick(\u001b[0m\n\u001b[1;37m                         ^\u001b[0m\n\u001b[1;31mSyntaxError\u001b[0m\u001b[1;31m:\u001b[0m unexpected EOF while parsing\n"
     ]
    }
   ],
   "source": [
    "import turtle\n",
    "class Stack:\n",
    "    def __init__(self):\n",
    "        self.items = []\n",
    "    def isEmpty(self):\n",
    "        return len(self.items) == 0\n",
    "    def push(self, item):\n",
    "        self.items.append(item)\n",
    "    def pop(self):\n",
    "        return self.items.pop()\n",
    "    def peek(self):\n",
    "        if not self.isEmpty():\n",
    "            return self.items[len(self.items) - 1]\n",
    "    def size(self):\n",
    "        return len(self.items)\n",
    "def drawpole_3():#画出汉诺塔的poles\n",
    "    t = turtle.Turtle()\n",
    "    t.hideturtle()\n",
    "    def drawpole_1(k):\n",
    "        t.up()\n",
    "        t.pensize(10)\n",
    "        t.speed(100)\n",
    "        t.goto(400*(k-1), 100)\n",
    "        t.down()\n",
    "        t.goto(400*(k-1), -100)\n",
    "        t.goto(400*(k-1)-20, -100)\n",
    "        t.goto(400*(k-1)+20, -100)\n",
    "    drawpole_1(0)#画出汉诺塔的poles[0]\n",
    "    drawpole_1(1)#画出汉诺塔的poles[1]\n",
    "    drawpole_1(2)#画出汉诺塔的poles[2]\n",
    "def creat_plates(n):#制造n个盘子\n",
    "    plates=[turtle.Turtle() for i in range(n)]\n",
    "    for i in range(n):\n",
    "        plates[i].up()\n",
    "        plates[i].hideturtle()\n",
    "        plates[i].shape(\"square\")\n",
    "        plates[i].shapesize(1,8-i)\n",
    "        plates[i].goto(-400,-90+20*i)\n",
    "        plates[i].showturtle()\n",
    "    return plates\n",
    "def pole_stack():#制造poles的栈\n",
    "    poles=[Stack() for i in range(3)]\n",
    "    return poles\n",
    "def moveDisk(plates,poles,fp,tp):#把poles[fp]顶端的盘子plates[mov]从poles[fp]移到poles[tp]\n",
    "    mov=poles[fp].peek()\n",
    "    plates[mov].goto((fp-1)*400,150)\n",
    "    plates[mov].goto((tp-1)*400,150)\n",
    "    l=poles[tp].size()#确定移动到底部的高度（恰好放在原来最上面的盘子上面）\n",
    "    plates[mov].goto((tp-1)*400,-90+20*l)\n",
    "def moveTower(plates,poles,height,fromPole, toPole, withPole):#递归放盘子\n",
    "    if height >= 1:\n",
    "        moveTower(plates,poles,height-1,fromPole,withPole,toPole)\n",
    "        moveDisk(plates,poles,fromPole,toPole)\n",
    "        poles[toPole].push(poles[fromPole].pop())\n",
    "        moveTower(plates,poles,height-1,withPole,toPole,fromPole)\n",
    " \n",
    "myscreen=turtle.Screen()\n",
    "drawpole_3()\n",
    "n=int(input(\"请输入汉诺塔的层数并回车:\\n\"))\n",
    "plates=creat_plates(n)\n",
    "poles=pole_stack()\n",
    "for i in range(n):\n",
    "    poles[0].push(i)\n",
    "moveTower(plates,poles,n,0,2,1)\n",
    "myscreen.exitonclick("
   ]
  },
  {
   "cell_type": "code",
   "execution_count": null,
   "metadata": {},
   "outputs": [],
   "source": [
    "import turtle as tl \n",
    "\n",
    "def draw_smalltree(tree_length,tree_angle):\n",
    "    '''\n",
    "    绘制分形树函数\n",
    "    '''\n",
    "    if tree_length >= 3:\n",
    "        tl.forward(tree_length) #往前画\n",
    "        tl.right(tree_angle)  #往右转\n",
    "        draw_smalltree(tree_length - 10,tree_angle)#画下一枝，直到画到树枝长小于3\n",
    "\n",
    "        tl.left(2 * tree_angle)  #转向画左\n",
    "        draw_smalltree(tree_length -10,tree_angle) #直到画到树枝长小于3\n",
    "\n",
    "        tl.rt(tree_angle) #转到正向上的方向，然后回溯到上一层\n",
    "        if tree_length <= 30:  #树枝长小于30，可以当作树叶了，树叶部分为绿色\n",
    "            tl.pencolor('green')\n",
    "        if tree_length > 30:\n",
    "            tl.pencolor('brown')  #树干部分为棕色\n",
    "        tl.backward(tree_length)  #往回画，回溯到上一层\n",
    "\n",
    "\n",
    "\n",
    "def main():\n",
    "    tl.penup()\n",
    "    #tl.pencolor('green')\n",
    "    tl.left(90)  #因为树是往上的，所以先把方向转左\n",
    "    tl.backward(250) #把起点放到底部\n",
    "    tl.pendown()\n",
    "    tree_length = 100  #我设置的最长树干为100\n",
    "    tree_angle = 20  #树枝分叉角度，我设为20\n",
    "    draw_smalltree(tree_length,tree_angle)\n",
    "    tl.exitonclick()  #点击才关闭画画窗口\n",
    "\n",
    "if __name__ == '__main__':\n",
    "    main()"
   ]
  },
  {
   "cell_type": "code",
   "execution_count": 6,
   "metadata": {},
   "outputs": [
    {
     "data": {
      "image/png": "[encoded data removed]",
      "text/plain": [
       "<Figure size 432x288 with 1 Axes>"
      ]
     },
     "metadata": {},
     "output_type": "display_data"
    }
   ],
   "source": [
    "import matplotlib.pyplot as plt\n",
    "from matplotlib.animation import FuncAnimation\n",
    "import numpy as np\n",
    "import seaborn\n",
    "\n",
    "fig, ax = plt.subplots()\n",
    "\n",
    "x = np.arange(0, 20, .01)\n",
    "ax.scatter(x, x+np.random.normal(0, 3, len(x)))\n",
    "line, = ax.plot(x, x-5, 'r-', lw=2)\n",
    "\n",
    "\n",
    "# i => ith frame\n",
    "def update(i):\n",
    "    line.set_ydata(x-5+i)\n",
    "    ax.set_xlabel('frame {0}'.format(i))\n",
    "    return line, ax\n",
    "\n",
    "if __name__ == '__main__':\n",
    "\n",
    "    animation = FuncAnimation(fig, update, frames=np.arange(0, 20), interval=200)\n",
    "        # 200ms 的间隔，相当于 5fps，一秒 5 帧\n",
    "    plt.show()"
   ]
  },
  {
   "cell_type": "code",
   "execution_count": 7,
   "metadata": {},
   "outputs": [
    {
     "ename": "SyntaxError",
     "evalue": "invalid syntax (<ipython-input-7-56da8d35de4d>, line 7)",
     "output_type": "error",
     "traceback": [
      "\u001b[1;36m  File \u001b[1;32m\"<ipython-input-7-56da8d35de4d>\"\u001b[1;36m, line \u001b[1;32m7\u001b[0m\n\u001b[1;33m    axis([-1 1 -1 1])\u001b[0m\n\u001b[1;37m             ^\u001b[0m\n\u001b[1;31mSyntaxError\u001b[0m\u001b[1;31m:\u001b[0m invalid syntax\n"
     ]
    }
   ],
   "source": [
    "clf; \n",
    "n=20; \n",
    "s=0.02; \n",
    "x = rand(n,1)-0.5; \n",
    "y = rand(n,1)-0.5; \n",
    "h = plot(x,y,'.'); \n",
    "axis([-1 1 -1 1]) \n",
    "axis square \n",
    "grid off \n",
    "set(h,'EraseMode','xor','MarkerSize',18) \n",
    "grid on; \n",
    "title('Press Ctl-C to stop'); \n",
    "while 1 \n",
    " drawnow \n",
    " x = x + s*randn(n,1); \n",
    " y = y + s*randn(n,1); \n",
    " set(h,'XData',x,'YData',y) \n",
    "end"
   ]
  },
  {
   "cell_type": "code",
   "execution_count": 8,
   "metadata": {},
   "outputs": [
    {
     "name": "stderr",
     "output_type": "stream",
     "text": [
      "MovieWriter ffmpeg unavailable.\n"
     ]
    },
    {
     "ename": "ValueError",
     "evalue": "unknown file extension: .mp4",
     "output_type": "error",
     "traceback": [
      "\u001b[1;31m---------------------------------------------------------------------------\u001b[0m",
      "\u001b[1;31mKeyError\u001b[0m                                  Traceback (most recent call last)",
      "\u001b[1;32md:\\ProgramData\\Anaconda3\\lib\\site-packages\\PIL\\Image.py\u001b[0m in \u001b[0;36msave\u001b[1;34m(self, fp, format, **params)\u001b[0m\n\u001b[0;32m   1914\u001b[0m             \u001b[1;32mtry\u001b[0m\u001b[1;33m:\u001b[0m\u001b[1;33m\u001b[0m\u001b[0m\n\u001b[1;32m-> 1915\u001b[1;33m                 \u001b[0mformat\u001b[0m \u001b[1;33m=\u001b[0m \u001b[0mEXTENSION\u001b[0m\u001b[1;33m[\u001b[0m\u001b[0mext\u001b[0m\u001b[1;33m]\u001b[0m\u001b[1;33m\u001b[0m\u001b[0m\n\u001b[0m\u001b[0;32m   1916\u001b[0m             \u001b[1;32mexcept\u001b[0m \u001b[0mKeyError\u001b[0m\u001b[1;33m:\u001b[0m\u001b[1;33m\u001b[0m\u001b[0m\n",
      "\u001b[1;31mKeyError\u001b[0m: '.mp4'",
      "\nDuring handling of the above exception, another exception occurred:\n",
      "\u001b[1;31mValueError\u001b[0m                                Traceback (most recent call last)",
      "\u001b[1;32m<ipython-input-8-b5d2d149231d>\u001b[0m in \u001b[0;36m<module>\u001b[1;34m()\u001b[0m\n\u001b[0;32m     34\u001b[0m \u001b[1;31m# your system: for more information, see\u001b[0m\u001b[1;33m\u001b[0m\u001b[1;33m\u001b[0m\u001b[0m\n\u001b[0;32m     35\u001b[0m \u001b[1;31m# http://matplotlib.sourceforge.net/api/animation_api.html\u001b[0m\u001b[1;33m\u001b[0m\u001b[1;33m\u001b[0m\u001b[0m\n\u001b[1;32m---> 36\u001b[1;33m \u001b[0manim\u001b[0m\u001b[1;33m.\u001b[0m\u001b[0msave\u001b[0m\u001b[1;33m(\u001b[0m\u001b[1;34m'basic_animation.mp4'\u001b[0m\u001b[1;33m,\u001b[0m \u001b[0mfps\u001b[0m\u001b[1;33m=\u001b[0m\u001b[1;36m30\u001b[0m\u001b[1;33m,\u001b[0m \u001b[0mextra_args\u001b[0m\u001b[1;33m=\u001b[0m\u001b[1;33m[\u001b[0m\u001b[1;34m'-vcodec'\u001b[0m\u001b[1;33m,\u001b[0m \u001b[1;34m'libx264'\u001b[0m\u001b[1;33m]\u001b[0m\u001b[1;33m)\u001b[0m\u001b[1;33m\u001b[0m\u001b[0m\n\u001b[0m\u001b[0;32m     37\u001b[0m \u001b[1;33m\u001b[0m\u001b[0m\n\u001b[0;32m     38\u001b[0m \u001b[0mplt\u001b[0m\u001b[1;33m.\u001b[0m\u001b[0mshow\u001b[0m\u001b[1;33m(\u001b[0m\u001b[1;33m)\u001b[0m \u001b[1;31m# plt.show() 会一直循环播放动画\u001b[0m\u001b[1;33m\u001b[0m\u001b[0m\n",
      "\u001b[1;32md:\\ProgramData\\Anaconda3\\lib\\site-packages\\matplotlib\\animation.py\u001b[0m in \u001b[0;36msave\u001b[1;34m(self, filename, writer, fps, dpi, codec, bitrate, extra_args, metadata, extra_anim, savefig_kwargs)\u001b[0m\n\u001b[0;32m   1198\u001b[0m                         \u001b[1;31m# TODO: See if turning off blit is really necessary\u001b[0m\u001b[1;33m\u001b[0m\u001b[1;33m\u001b[0m\u001b[0m\n\u001b[0;32m   1199\u001b[0m                         \u001b[0manim\u001b[0m\u001b[1;33m.\u001b[0m\u001b[0m_draw_next_frame\u001b[0m\u001b[1;33m(\u001b[0m\u001b[0md\u001b[0m\u001b[1;33m,\u001b[0m \u001b[0mblit\u001b[0m\u001b[1;33m=\u001b[0m\u001b[1;32mFalse\u001b[0m\u001b[1;33m)\u001b[0m\u001b[1;33m\u001b[0m\u001b[0m\n\u001b[1;32m-> 1200\u001b[1;33m                     \u001b[0mwriter\u001b[0m\u001b[1;33m.\u001b[0m\u001b[0mgrab_frame\u001b[0m\u001b[1;33m(\u001b[0m\u001b[1;33m**\u001b[0m\u001b[0msavefig_kwargs\u001b[0m\u001b[1;33m)\u001b[0m\u001b[1;33m\u001b[0m\u001b[0m\n\u001b[0m\u001b[0;32m   1201\u001b[0m \u001b[1;33m\u001b[0m\u001b[0m\n\u001b[0;32m   1202\u001b[0m         \u001b[1;31m# Reconnect signal for first draw if necessary\u001b[0m\u001b[1;33m\u001b[0m\u001b[1;33m\u001b[0m\u001b[0m\n",
      "\u001b[1;32md:\\ProgramData\\Anaconda3\\lib\\contextlib.py\u001b[0m in \u001b[0;36m__exit__\u001b[1;34m(self, type, value, traceback)\u001b[0m\n\u001b[0;32m     86\u001b[0m         \u001b[1;32mif\u001b[0m \u001b[0mtype\u001b[0m \u001b[1;32mis\u001b[0m \u001b[1;32mNone\u001b[0m\u001b[1;33m:\u001b[0m\u001b[1;33m\u001b[0m\u001b[0m\n\u001b[0;32m     87\u001b[0m             \u001b[1;32mtry\u001b[0m\u001b[1;33m:\u001b[0m\u001b[1;33m\u001b[0m\u001b[0m\n\u001b[1;32m---> 88\u001b[1;33m                 \u001b[0mnext\u001b[0m\u001b[1;33m(\u001b[0m\u001b[0mself\u001b[0m\u001b[1;33m.\u001b[0m\u001b[0mgen\u001b[0m\u001b[1;33m)\u001b[0m\u001b[1;33m\u001b[0m\u001b[0m\n\u001b[0m\u001b[0;32m     89\u001b[0m             \u001b[1;32mexcept\u001b[0m \u001b[0mStopIteration\u001b[0m\u001b[1;33m:\u001b[0m\u001b[1;33m\u001b[0m\u001b[0m\n\u001b[0;32m     90\u001b[0m                 \u001b[1;32mreturn\u001b[0m \u001b[1;32mFalse\u001b[0m\u001b[1;33m\u001b[0m\u001b[0m\n",
      "\u001b[1;32md:\\ProgramData\\Anaconda3\\lib\\site-packages\\matplotlib\\animation.py\u001b[0m in \u001b[0;36msaving\u001b[1;34m(self, fig, outfile, dpi, *args, **kwargs)\u001b[0m\n\u001b[0;32m    239\u001b[0m             \u001b[1;32myield\u001b[0m \u001b[0mself\u001b[0m\u001b[1;33m\u001b[0m\u001b[0m\n\u001b[0;32m    240\u001b[0m         \u001b[1;32mfinally\u001b[0m\u001b[1;33m:\u001b[0m\u001b[1;33m\u001b[0m\u001b[0m\n\u001b[1;32m--> 241\u001b[1;33m             \u001b[0mself\u001b[0m\u001b[1;33m.\u001b[0m\u001b[0mfinish\u001b[0m\u001b[1;33m(\u001b[0m\u001b[1;33m)\u001b[0m\u001b[1;33m\u001b[0m\u001b[0m\n\u001b[0m\u001b[0;32m    242\u001b[0m \u001b[1;33m\u001b[0m\u001b[0m\n\u001b[0;32m    243\u001b[0m \u001b[1;33m\u001b[0m\u001b[0m\n",
      "\u001b[1;32md:\\ProgramData\\Anaconda3\\lib\\site-packages\\matplotlib\\animation.py\u001b[0m in \u001b[0;36mfinish\u001b[1;34m(self)\u001b[0m\n\u001b[0;32m    610\u001b[0m         self._frames[0].save(\n\u001b[0;32m    611\u001b[0m             \u001b[0mself\u001b[0m\u001b[1;33m.\u001b[0m\u001b[0m_outfile\u001b[0m\u001b[1;33m,\u001b[0m \u001b[0msave_all\u001b[0m\u001b[1;33m=\u001b[0m\u001b[1;32mTrue\u001b[0m\u001b[1;33m,\u001b[0m \u001b[0mappend_images\u001b[0m\u001b[1;33m=\u001b[0m\u001b[0mself\u001b[0m\u001b[1;33m.\u001b[0m\u001b[0m_frames\u001b[0m\u001b[1;33m[\u001b[0m\u001b[1;36m1\u001b[0m\u001b[1;33m:\u001b[0m\u001b[1;33m]\u001b[0m\u001b[1;33m,\u001b[0m\u001b[1;33m\u001b[0m\u001b[0m\n\u001b[1;32m--> 612\u001b[1;33m             duration=int(1000 / self.fps))\n\u001b[0m\u001b[0;32m    613\u001b[0m \u001b[1;33m\u001b[0m\u001b[0m\n\u001b[0;32m    614\u001b[0m \u001b[1;33m\u001b[0m\u001b[0m\n",
      "\u001b[1;32md:\\ProgramData\\Anaconda3\\lib\\site-packages\\PIL\\Image.py\u001b[0m in \u001b[0;36msave\u001b[1;34m(self, fp, format, **params)\u001b[0m\n\u001b[0;32m   1915\u001b[0m                 \u001b[0mformat\u001b[0m \u001b[1;33m=\u001b[0m \u001b[0mEXTENSION\u001b[0m\u001b[1;33m[\u001b[0m\u001b[0mext\u001b[0m\u001b[1;33m]\u001b[0m\u001b[1;33m\u001b[0m\u001b[0m\n\u001b[0;32m   1916\u001b[0m             \u001b[1;32mexcept\u001b[0m \u001b[0mKeyError\u001b[0m\u001b[1;33m:\u001b[0m\u001b[1;33m\u001b[0m\u001b[0m\n\u001b[1;32m-> 1917\u001b[1;33m                 \u001b[1;32mraise\u001b[0m \u001b[0mValueError\u001b[0m\u001b[1;33m(\u001b[0m\u001b[1;34m'unknown file extension: {}'\u001b[0m\u001b[1;33m.\u001b[0m\u001b[0mformat\u001b[0m\u001b[1;33m(\u001b[0m\u001b[0mext\u001b[0m\u001b[1;33m)\u001b[0m\u001b[1;33m)\u001b[0m\u001b[1;33m\u001b[0m\u001b[0m\n\u001b[0m\u001b[0;32m   1918\u001b[0m \u001b[1;33m\u001b[0m\u001b[0m\n\u001b[0;32m   1919\u001b[0m         \u001b[1;32mif\u001b[0m \u001b[0mformat\u001b[0m\u001b[1;33m.\u001b[0m\u001b[0mupper\u001b[0m\u001b[1;33m(\u001b[0m\u001b[1;33m)\u001b[0m \u001b[1;32mnot\u001b[0m \u001b[1;32min\u001b[0m \u001b[0mSAVE\u001b[0m\u001b[1;33m:\u001b[0m\u001b[1;33m\u001b[0m\u001b[0m\n",
      "\u001b[1;31mValueError\u001b[0m: unknown file extension: .mp4"
     ]
    },
    {
     "data": {
      "image/png": "[encoded data removed]",
      "text/plain": [
       "<Figure size 432x288 with 1 Axes>"
      ]
     },
     "metadata": {},
     "output_type": "display_data"
    }
   ],
   "source": [
    "\"\"\"\n",
    "A simple example of an animated plot\n",
    "\"\"\"\n",
    "import numpy as np\n",
    "from matplotlib import pyplot as plt\n",
    "from matplotlib import animation\n",
    "# First set up the figure, the axis, and the plot element we want to animate\n",
    "fig = plt.figure()\n",
    "# create our line object which will be modified in the animation\n",
    "ax = plt.axes(xlim=(0, 2), ylim=(-2, 2))\n",
    "# we simply plot an empty line: we'll add data to the line later\n",
    "line, = ax.plot([], [], lw=2) \n",
    "# initialization function: plot the background of each frame\n",
    "def init():\n",
    " line.set_data([], [])\n",
    " return line,\n",
    "# animation function. This is called sequentially\n",
    "# It takes a single parameter, the frame number i \n",
    "def animate(i):\n",
    " x = np.linspace(0, 2, 1000)\n",
    " y = np.sin(2 * np.pi * (x - 0.01 * i)) # update the data\n",
    " line.set_data(x, y)\n",
    " return line,\n",
    "# Makes an animation by repeatedly calling a function func\n",
    "# frames can be a generator, an iterable, or a number of frames.\n",
    "# interval draws a new frame every interval milliseconds.\n",
    "# blit=True means only re-draw the parts that have changed.\n",
    "# 在这里设置一个200帧的动画，每帧之间间隔20毫秒\n",
    "anim = animation.FuncAnimation(fig, animate, init_func=init,\n",
    "        frames=200, interval=20, blit=True)\n",
    "# save the animation as an mp4. This requires ffmpeg or mencoder to be\n",
    "# installed. The extra_args ensure that the x264 codec is used, so that\n",
    "# the video can be embedded in html5. You may need to adjust this for\n",
    "# your system: for more information, see\n",
    "# http://matplotlib.sourceforge.net/api/animation_api.html\n",
    "anim.save('basic_animation.mp4', fps=30, extra_args=['-vcodec', 'libx264'])\n",
    " \n",
    "plt.show() # plt.show() 会一直循环播放动画"
   ]
  },
  {
   "cell_type": "code",
   "execution_count": null,
   "metadata": {},
   "outputs": [],
   "source": []
  }
 ],
 "metadata": {
  "kernelspec": {
   "display_name": "Python 3",
   "language": "python",
   "name": "python3"
  },
  "language_info": {
   "codemirror_mode": {
    "name": "ipython",
    "version": 3
   },
   "file_extension": ".py",
   "mimetype": "text/x-python",
   "name": "python",
   "nbconvert_exporter": "python",
   "pygments_lexer": "ipython3",
   "version": "3.6.5"
  }
 },
 "nbformat": 4,
 "nbformat_minor": 2
}
